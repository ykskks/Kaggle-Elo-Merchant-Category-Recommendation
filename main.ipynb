{
 "cells": [
  {
   "cell_type": "code",
   "execution_count": 1,
   "metadata": {},
   "outputs": [],
   "source": [
    "import os\n",
    "import sys\n",
    "\n",
    "USER = os.environ.get(\"USER\")\n",
    "sys.path.append(f\"/home/{USER}/anaconda3/lib/python3.7/site-packages\")"
   ]
  },
  {
   "cell_type": "code",
   "execution_count": 2,
   "metadata": {},
   "outputs": [],
   "source": [
    "import gc\n",
    "import warnings\n",
    "import datetime\n",
    "import collections\n",
    "from itertools import permutations\n",
    "\n",
    "import numpy as np \n",
    "import pandas as pd \n",
    "import matplotlib.pyplot as plt\n",
    "import seaborn as sns\n",
    "from tqdm import tqdm\n",
    "import lightgbm as lgb\n",
    "from sklearn.model_selection import StratifiedKFold\n",
    "from sklearn.metrics import mean_squared_error\n",
    "import nimfa\n",
    "\n",
    "np.random.seed(42)\n",
    "pd.set_option('display.max_columns', 50)\n",
    "warnings.filterwarnings('ignore')\n",
    "%matplotlib inline"
   ]
  },
  {
   "cell_type": "code",
   "execution_count": 3,
   "metadata": {
    "collapsed": true
   },
   "outputs": [],
   "source": [
    "def clean_up(obj):\n",
    "    del obj\n",
    "    gc.collect()"
   ]
  },
  {
   "cell_type": "code",
   "execution_count": 4,
   "metadata": {
    "collapsed": true,
    "scrolled": true
   },
   "outputs": [],
   "source": [
    "# load in data\n",
    "train = pd.read_csv('./input/train.csv', parse_dates=['first_active_month'])\n",
    "test = pd.read_csv('./input/test.csv', parse_dates=['first_active_month'])\n",
    "historical_transactions = pd.read_csv('./input/historical_transactions.csv', parse_dates=['purchase_date'])\n",
    "new_transactions = pd.read_csv('./input/new_merchant_transactions.csv', parse_dates=['purchase_date'])\n",
    "\n",
    "target = train['target']\n",
    "train.drop(\"target\", axis=1, inplace=True)\n",
    "\n",
    "# Reversing the purchase amount feature back to original scale. \n",
    "# https://www.kaggle.com/raddar/towards-de-anonymizing-the-data-some-insights\n",
    "historical_transactions['purchase_amount'] = np.round(historical_transactions['purchase_amount'] / 0.00150265118 + 497.06, 2)\n",
    "new_transactions['purchase_amount'] = np.round(new_transactions['purchase_amount'] / 0.00150265118 + 497.06, 2)"
   ]
  },
  {
   "cell_type": "code",
   "execution_count": 5,
   "metadata": {},
   "outputs": [
    {
     "data": {
      "text/html": [
       "<div>\n",
       "<style scoped>\n",
       "    .dataframe tbody tr th:only-of-type {\n",
       "        vertical-align: middle;\n",
       "    }\n",
       "\n",
       "    .dataframe tbody tr th {\n",
       "        vertical-align: top;\n",
       "    }\n",
       "\n",
       "    .dataframe thead th {\n",
       "        text-align: right;\n",
       "    }\n",
       "</style>\n",
       "<table border=\"1\" class=\"dataframe\">\n",
       "  <thead>\n",
       "    <tr style=\"text-align: right;\">\n",
       "      <th></th>\n",
       "      <th>first_active_month</th>\n",
       "      <th>card_id</th>\n",
       "      <th>feature_1</th>\n",
       "      <th>feature_2</th>\n",
       "      <th>feature_3</th>\n",
       "    </tr>\n",
       "  </thead>\n",
       "  <tbody>\n",
       "    <tr>\n",
       "      <th>0</th>\n",
       "      <td>2017-06-01</td>\n",
       "      <td>C_ID_92a2005557</td>\n",
       "      <td>5</td>\n",
       "      <td>2</td>\n",
       "      <td>1</td>\n",
       "    </tr>\n",
       "    <tr>\n",
       "      <th>1</th>\n",
       "      <td>2017-01-01</td>\n",
       "      <td>C_ID_3d0044924f</td>\n",
       "      <td>4</td>\n",
       "      <td>1</td>\n",
       "      <td>0</td>\n",
       "    </tr>\n",
       "    <tr>\n",
       "      <th>2</th>\n",
       "      <td>2016-08-01</td>\n",
       "      <td>C_ID_d639edf6cd</td>\n",
       "      <td>2</td>\n",
       "      <td>2</td>\n",
       "      <td>0</td>\n",
       "    </tr>\n",
       "    <tr>\n",
       "      <th>3</th>\n",
       "      <td>2017-09-01</td>\n",
       "      <td>C_ID_186d6a6901</td>\n",
       "      <td>4</td>\n",
       "      <td>3</td>\n",
       "      <td>0</td>\n",
       "    </tr>\n",
       "    <tr>\n",
       "      <th>4</th>\n",
       "      <td>2017-11-01</td>\n",
       "      <td>C_ID_cdbd2c0db2</td>\n",
       "      <td>1</td>\n",
       "      <td>3</td>\n",
       "      <td>0</td>\n",
       "    </tr>\n",
       "  </tbody>\n",
       "</table>\n",
       "</div>"
      ],
      "text/plain": [
       "  first_active_month          card_id  feature_1  feature_2  feature_3\n",
       "0         2017-06-01  C_ID_92a2005557          5          2          1\n",
       "1         2017-01-01  C_ID_3d0044924f          4          1          0\n",
       "2         2016-08-01  C_ID_d639edf6cd          2          2          0\n",
       "3         2017-09-01  C_ID_186d6a6901          4          3          0\n",
       "4         2017-11-01  C_ID_cdbd2c0db2          1          3          0"
      ]
     },
     "execution_count": 5,
     "metadata": {},
     "output_type": "execute_result"
    }
   ],
   "source": [
    "train.head()"
   ]
  },
  {
   "cell_type": "code",
   "execution_count": 6,
   "metadata": {},
   "outputs": [
    {
     "data": {
      "text/html": [
       "<div>\n",
       "<style scoped>\n",
       "    .dataframe tbody tr th:only-of-type {\n",
       "        vertical-align: middle;\n",
       "    }\n",
       "\n",
       "    .dataframe tbody tr th {\n",
       "        vertical-align: top;\n",
       "    }\n",
       "\n",
       "    .dataframe thead th {\n",
       "        text-align: right;\n",
       "    }\n",
       "</style>\n",
       "<table border=\"1\" class=\"dataframe\">\n",
       "  <thead>\n",
       "    <tr style=\"text-align: right;\">\n",
       "      <th></th>\n",
       "      <th>authorized_flag</th>\n",
       "      <th>card_id</th>\n",
       "      <th>city_id</th>\n",
       "      <th>category_1</th>\n",
       "      <th>installments</th>\n",
       "      <th>category_3</th>\n",
       "      <th>merchant_category_id</th>\n",
       "      <th>merchant_id</th>\n",
       "      <th>month_lag</th>\n",
       "      <th>purchase_amount</th>\n",
       "      <th>purchase_date</th>\n",
       "      <th>category_2</th>\n",
       "      <th>state_id</th>\n",
       "      <th>subsector_id</th>\n",
       "    </tr>\n",
       "  </thead>\n",
       "  <tbody>\n",
       "    <tr>\n",
       "      <th>0</th>\n",
       "      <td>Y</td>\n",
       "      <td>C_ID_4e6213e9bc</td>\n",
       "      <td>88</td>\n",
       "      <td>N</td>\n",
       "      <td>0</td>\n",
       "      <td>A</td>\n",
       "      <td>80</td>\n",
       "      <td>M_ID_e020e9b302</td>\n",
       "      <td>-8</td>\n",
       "      <td>29.00</td>\n",
       "      <td>2017-06-25 15:33:07</td>\n",
       "      <td>1.0</td>\n",
       "      <td>16</td>\n",
       "      <td>37</td>\n",
       "    </tr>\n",
       "    <tr>\n",
       "      <th>1</th>\n",
       "      <td>Y</td>\n",
       "      <td>C_ID_4e6213e9bc</td>\n",
       "      <td>88</td>\n",
       "      <td>N</td>\n",
       "      <td>0</td>\n",
       "      <td>A</td>\n",
       "      <td>367</td>\n",
       "      <td>M_ID_86ec983688</td>\n",
       "      <td>-7</td>\n",
       "      <td>9.17</td>\n",
       "      <td>2017-07-15 12:10:45</td>\n",
       "      <td>1.0</td>\n",
       "      <td>16</td>\n",
       "      <td>16</td>\n",
       "    </tr>\n",
       "    <tr>\n",
       "      <th>2</th>\n",
       "      <td>Y</td>\n",
       "      <td>C_ID_4e6213e9bc</td>\n",
       "      <td>88</td>\n",
       "      <td>N</td>\n",
       "      <td>0</td>\n",
       "      <td>A</td>\n",
       "      <td>80</td>\n",
       "      <td>M_ID_979ed661fc</td>\n",
       "      <td>-6</td>\n",
       "      <td>17.65</td>\n",
       "      <td>2017-08-09 22:04:29</td>\n",
       "      <td>1.0</td>\n",
       "      <td>16</td>\n",
       "      <td>37</td>\n",
       "    </tr>\n",
       "    <tr>\n",
       "      <th>3</th>\n",
       "      <td>Y</td>\n",
       "      <td>C_ID_4e6213e9bc</td>\n",
       "      <td>88</td>\n",
       "      <td>N</td>\n",
       "      <td>0</td>\n",
       "      <td>A</td>\n",
       "      <td>560</td>\n",
       "      <td>M_ID_e6d5ae8ea6</td>\n",
       "      <td>-5</td>\n",
       "      <td>7.69</td>\n",
       "      <td>2017-09-02 10:06:26</td>\n",
       "      <td>1.0</td>\n",
       "      <td>16</td>\n",
       "      <td>34</td>\n",
       "    </tr>\n",
       "    <tr>\n",
       "      <th>4</th>\n",
       "      <td>Y</td>\n",
       "      <td>C_ID_4e6213e9bc</td>\n",
       "      <td>88</td>\n",
       "      <td>N</td>\n",
       "      <td>0</td>\n",
       "      <td>A</td>\n",
       "      <td>80</td>\n",
       "      <td>M_ID_e020e9b302</td>\n",
       "      <td>-11</td>\n",
       "      <td>16.00</td>\n",
       "      <td>2017-03-10 01:14:19</td>\n",
       "      <td>1.0</td>\n",
       "      <td>16</td>\n",
       "      <td>37</td>\n",
       "    </tr>\n",
       "  </tbody>\n",
       "</table>\n",
       "</div>"
      ],
      "text/plain": [
       "  authorized_flag          card_id  city_id category_1  installments  \\\n",
       "0               Y  C_ID_4e6213e9bc       88          N             0   \n",
       "1               Y  C_ID_4e6213e9bc       88          N             0   \n",
       "2               Y  C_ID_4e6213e9bc       88          N             0   \n",
       "3               Y  C_ID_4e6213e9bc       88          N             0   \n",
       "4               Y  C_ID_4e6213e9bc       88          N             0   \n",
       "\n",
       "  category_3  merchant_category_id      merchant_id  month_lag  \\\n",
       "0          A                    80  M_ID_e020e9b302         -8   \n",
       "1          A                   367  M_ID_86ec983688         -7   \n",
       "2          A                    80  M_ID_979ed661fc         -6   \n",
       "3          A                   560  M_ID_e6d5ae8ea6         -5   \n",
       "4          A                    80  M_ID_e020e9b302        -11   \n",
       "\n",
       "   purchase_amount       purchase_date  category_2  state_id  subsector_id  \n",
       "0            29.00 2017-06-25 15:33:07         1.0        16            37  \n",
       "1             9.17 2017-07-15 12:10:45         1.0        16            16  \n",
       "2            17.65 2017-08-09 22:04:29         1.0        16            37  \n",
       "3             7.69 2017-09-02 10:06:26         1.0        16            34  \n",
       "4            16.00 2017-03-10 01:14:19         1.0        16            37  "
      ]
     },
     "execution_count": 6,
     "metadata": {},
     "output_type": "execute_result"
    }
   ],
   "source": [
    "historical_transactions.head()"
   ]
  },
  {
   "cell_type": "code",
   "execution_count": 7,
   "metadata": {
    "collapsed": true
   },
   "outputs": [],
   "source": [
    "def merge_generated_features(df_list):\n",
    "    global train, test\n",
    "    for df in df_list:\n",
    "        train = train.merge(df, on='card_id', how='left')\n",
    "        test = test.merge(df, on='card_id', how='left')"
   ]
  },
  {
   "cell_type": "markdown",
   "metadata": {},
   "source": [
    "### Extract time trend in purchase patterns by purchase_month."
   ]
  },
  {
   "cell_type": "code",
   "execution_count": 8,
   "metadata": {
    "collapsed": true
   },
   "outputs": [],
   "source": [
    "# 前回は月ごとのpurchase_amount_{sum, count, mean}に対してNMFして特徴抽出してたみたい\n",
    "\n",
    "def compute_time_trend_in_purchases(agg_method):\n",
    "    # compute min/max/mean/diff-min/diff-max/diff-mean per period\n",
    "    \n",
    "    periods = {\n",
    "        \"p1\": [\"-13\", \"-12\", \"-11\", \"-10\"],\n",
    "        \"p2\": [\"-9\", \"-8\", \"-7\", \"-6\"],\n",
    "        \"p3\": [\"-5\", \"-4\", \"-3\"],\n",
    "        \"p4\": [\"-2\", \"-1\", \"0\"],\n",
    "    }\n",
    "    \n",
    "    calc_method = [\"min\", \"max\", \"mean\", \"diff_min\", \"diff_max\", \"diff_mean\"]\n",
    "    \n",
    "    agg_df = historical_transactions[['card_id','merchant_category_id', 'month_lag', 'purchase_amount']] \\\n",
    "                .groupby(['card_id', 'month_lag']) \\\n",
    "                .agg({'purchase_amount': [agg_method]})\n",
    "    \n",
    "    agg_df.columns = [f\"purchase_amount_{agg_method}\"]\n",
    "    agg_df = agg_df.unstack().fillna(0)\n",
    "    cols = agg_df.columns\n",
    "    agg_df.columns = [\"_\".join(list(map(str, cols[i]))) for i in range(14)]\n",
    "    \n",
    "    use_cols = []\n",
    "    for p in periods:\n",
    "        for m in calc_method:\n",
    "            if m == \"min\":\n",
    "                agg_df[f\"purchase_amount_{agg_method}_{m}_{p}\"] = agg_df[[f\"purchase_amount_{agg_method}_{i}\" for i in periods[p]]] \\\n",
    "                                                                    .min(axis=1)\n",
    "            if m == \"max\":\n",
    "                agg_df[f\"purchase_amount_{agg_method}_{m}_{p}\"] = agg_df[[f\"purchase_amount_{agg_method}_{i}\" for i in periods[p]]] \\\n",
    "                                                                    .max(axis=1)\n",
    "            if m == \"mean\":\n",
    "                agg_df[f\"purchase_amount_{agg_method}_{m}_{p}\"] = agg_df[[f\"purchase_amount_{agg_method}_{i}\" for i in periods[p]]] \\\n",
    "                                                                    .mean(axis=1)\n",
    "            if \"diff\" in m:\n",
    "                tmp = pd.DataFrame()\n",
    "                len_periods = len(periods[p])\n",
    "                while len_periods > 1:\n",
    "                    tmp[f\"diff_{len_periods}\"] = agg_df[f\"purchase_amount_{agg_method}_{periods[p][len_periods-1]}\"] - agg_df[f\"purchase_amount_{agg_method}_{periods[p][len_periods-2]}\"]\n",
    "                    len_periods -= 1\n",
    "                if \"min\" in m:\n",
    "                    agg_df[f\"purchase_amount_{agg_method}_{m}_{p}\"] = tmp.min(axis=1)\n",
    "                if \"max\" in m:\n",
    "                    agg_df[f\"purchase_amount_{agg_method}_{m}_{p}\"] = tmp.max(axis=1)\n",
    "                if \"mean\" in m:\n",
    "                    agg_df[f\"purchase_amount_{agg_method}_{m}_{p}\"] = tmp.mean(axis=1)\n",
    "                        \n",
    "            use_cols.append(f\"purchase_amount_{agg_method}_{m}_{p}\")\n",
    "    agg_df.reset_index(drop=False, inplace=True)\n",
    "    return agg_df[[\"card_id\"] + use_cols]"
   ]
  },
  {
   "cell_type": "code",
   "execution_count": 9,
   "metadata": {
    "collapsed": true
   },
   "outputs": [],
   "source": [
    "agg_methods = [\"count\", \"sum\", \"mean\"]\n",
    "generated_dfs = [compute_time_trend_in_purchases(m) for m in agg_methods]\n",
    "merge_generated_features(generated_dfs)\n",
    "clean_up(generated_dfs)"
   ]
  },
  {
   "cell_type": "markdown",
   "metadata": {},
   "source": [
    "### Extract user's preferences by applying NMF to user-merchant_category matrix."
   ]
  },
  {
   "cell_type": "code",
   "execution_count": 10,
   "metadata": {
    "collapsed": true
   },
   "outputs": [],
   "source": [
    "def compute_user_preferences(agg_method):\n",
    "    agg_df = historical_transactions[['card_id','merchant_category_id', 'month_lag', 'purchase_amount']] \\\n",
    "                .groupby(['card_id', 'merchant_category_id']) \\\n",
    "                .agg({'purchase_amount': [agg_method]})\n",
    "    \n",
    "    agg_df.columns = [f\"purchase_amount_{agg_method}\"]\n",
    "    agg_df = agg_df.unstack().fillna(0)\n",
    "\n",
    "    nmf = nimfa.Nmf(agg_df.values, seed='nndsvd', max_iter=30, rank=20, update='euclidean', objective='fro')\n",
    "    nmf_fit = nmf()\n",
    "    nmf_feats = nmf_fit.basis()\n",
    "    nmf_feats = pd.DataFrame(nmf_feats)\n",
    "    nmf_feats.columns = [f'nmf_merch_cate_{agg_method}_'+str(i) for i in range(1, 21)]\n",
    "    nmf_feats[\"card_id\"] = agg_df.index\n",
    "    return nmf_feats"
   ]
  },
  {
   "cell_type": "code",
   "execution_count": 11,
   "metadata": {
    "collapsed": true
   },
   "outputs": [],
   "source": [
    "agg_methods = [\"count\", \"sum\", \"mean\"]\n",
    "generated_dfs = [compute_user_preferences(m) for m in agg_methods]\n",
    "merge_generated_features(generated_dfs)\n",
    "clean_up(generated_dfs)"
   ]
  },
  {
   "cell_type": "markdown",
   "metadata": {},
   "source": [
    "### Calculate entropy for merchant_id. This value will get smaller as a card_id makes repeated purchases at the same merchants.\n",
    "\n",
    "### Calculate the ratio of merchants that a card_id made purchases only once."
   ]
  },
  {
   "cell_type": "code",
   "execution_count": 12,
   "metadata": {
    "collapsed": true
   },
   "outputs": [],
   "source": [
    "# normalize by the purchase_counts(which was better than normalizing by number of unique merchants)\n",
    "def norm_entropy(vec):\n",
    "    entropys = list()\n",
    "    count = collections.Counter(vec)\n",
    "    countall = float(np.sum(np.array(list(count.values()))))\n",
    "    for item in count.items():\n",
    "        counteach = item[1]\n",
    "        prob = counteach / countall\n",
    "        entropyeach = -prob * np.log(prob)\n",
    "        norm_entropy = entropyeach / len(vec)\n",
    "        entropys.append(norm_entropy)\n",
    "    entropy = np.sum(entropys)\n",
    "    return entropy\n",
    "\n",
    "\n",
    "def only_once_ratio(vec):\n",
    "    count = collections.Counter(vec)\n",
    "    arr = np.array(list(count.values()))\n",
    "    countall = len(arr)\n",
    "    only_once = len(arr[arr==1])\n",
    "    only_once_ratio = only_once / countall\n",
    "    return only_once_ratio\n",
    "\n",
    "\n",
    "def compute_merchant_id_features():\n",
    "    grp = historical_transactions.groupby('card_id')\n",
    "\n",
    "    entropy_list = []\n",
    "    ratio_list = []\n",
    "    for grp_name, grp_idx in grp.groups.items():\n",
    "        tmp = historical_transactions.loc[grp_idx, 'merchant_id']\n",
    "        e = norm_entropy(tmp)\n",
    "        entropy_list.append(e)\n",
    "        \n",
    "        r = only_once_ratio(tmp)\n",
    "        ratio_list.append(r)\n",
    "\n",
    "    merchant_id_features = pd.DataFrame()\n",
    "    merchant_id_features['card_id'] = [i for i in grp.groups]\n",
    "    merchant_id_features['merchant_id_entropy'] = entropy_list\n",
    "    merchant_id_features['only_once_merchant_ratio'] = ratio_list\n",
    "\n",
    "    return merchant_id_features"
   ]
  },
  {
   "cell_type": "code",
   "execution_count": 13,
   "metadata": {
    "collapsed": true
   },
   "outputs": [],
   "source": [
    "generated_dfs = [compute_merchant_id_features()]\n",
    "merge_generated_features(generated_dfs)\n",
    "clean_up(generated_dfs)"
   ]
  },
  {
   "cell_type": "markdown",
   "metadata": {},
   "source": [
    "### Inpute missing values with mode. (better score)"
   ]
  },
  {
   "cell_type": "code",
   "execution_count": 14,
   "metadata": {
    "collapsed": true
   },
   "outputs": [],
   "source": [
    "for df in [historical_transactions, new_transactions]:\n",
    "    df['category_3'].fillna('A', inplace=True)\n",
    "    df['merchant_id'].fillna('M_ID_00a6ca8a8a', inplace=True)\n",
    "    df['category_2'].fillna(1.0, inplace=True)"
   ]
  },
  {
   "cell_type": "markdown",
   "metadata": {},
   "source": [
    "### Calculate the gaps between purchase_dates for each card_id. Aggregate later."
   ]
  },
  {
   "cell_type": "code",
   "execution_count": 15,
   "metadata": {
    "collapsed": true
   },
   "outputs": [],
   "source": [
    "def compute_purchase_frequencies():\n",
    "    time_delta_df = historical_transactions.sort_values(['card_id', 'purchase_date'])[['card_id', 'purchase_date']].reset_index(drop=True)\n",
    "    time_delta_df['time_since_last_purchase'] = 0\n",
    "\n",
    "    before_id = None\n",
    "    zero_points = []\n",
    "    for i, id_ in tqdm(time_delta_df[\"card_id\"].iteritems()):\n",
    "        if id_ != before_id:\n",
    "            zero_points.append(i)\n",
    "            before_id = id_\n",
    "    \n",
    "    time_delta_df.loc[:,\"time_since_last_purchase\"] = time_delta_df.loc[:,\"purchase_date\"].diff()\n",
    "    time_delta_df.loc[zero_points,\"time_since_last_purchase\"] = pd.Timedelta(0)\n",
    "\n",
    "    time_delta_df['time_since_last_purchase'] = time_delta_df['time_since_last_purchase'].astype(int) * 10**(-9)\n",
    "    time_delta_df = time_delta_df.groupby('card_id').agg({'time_since_last_purchase':['mean', 'var', 'max']})\n",
    "    time_delta_df.columns = ['_'.join(col) for col in time_delta_df.columns.values]\n",
    "    time_delta_df.reset_index(inplace=True)\n",
    "    return time_delta_df"
   ]
  },
  {
   "cell_type": "code",
   "execution_count": 16,
   "metadata": {},
   "outputs": [
    {
     "name": "stderr",
     "output_type": "stream",
     "text": [
      "29112361it [00:06, 4758238.12it/s]\n"
     ]
    }
   ],
   "source": [
    "generated_dfs = [compute_purchase_frequencies()]\n",
    "merge_generated_features(generated_dfs)\n",
    "clean_up(generated_dfs)"
   ]
  },
  {
   "cell_type": "markdown",
   "metadata": {},
   "source": [
    "### Add sum of purchase counts per category in histrical transactions."
   ]
  },
  {
   "cell_type": "code",
   "execution_count": 17,
   "metadata": {
    "collapsed": true
   },
   "outputs": [],
   "source": [
    "def compute_sum_purchase_counts():\n",
    "    top100_category = historical_transactions['merchant_category_id'].value_counts()[:100].keys()\n",
    "\n",
    "    historical_transactions['top100'] = historical_transactions['merchant_category_id'].apply(lambda x: 1 if x in top100_category else 0)\n",
    "    top100_historical_transactions = historical_transactions[historical_transactions['top100'] == 1][['card_id', 'merchant_category_id']]\n",
    "    top100_historical_transactions = pd.get_dummies(top100_historical_transactions, columns=['merchant_category_id'])\n",
    "\n",
    "    df_sum = top100_historical_transactions[['card_id', 'merchant_category_id_2']].groupby('card_id').sum()\n",
    "    cols = list(top100_historical_transactions.columns.values)[2:]\n",
    "\n",
    "    for col in tqdm(cols):\n",
    "        df_sum[col] = top100_historical_transactions[['card_id', col]].groupby('card_id').sum()\n",
    "        del top100_historical_transactions[col]\n",
    "        gc.collect()\n",
    "        \n",
    "    df_sum.reset_index(inplace=True)\n",
    "    return df_sum"
   ]
  },
  {
   "cell_type": "code",
   "execution_count": 18,
   "metadata": {},
   "outputs": [
    {
     "name": "stderr",
     "output_type": "stream",
     "text": [
      "100%|██████████| 99/99 [03:22<00:00,  2.05s/it]\n"
     ]
    }
   ],
   "source": [
    "generated_dfs = [compute_sum_purchase_counts()]\n",
    "merge_generated_features(generated_dfs)\n",
    "clean_up(generated_dfs)"
   ]
  },
  {
   "cell_type": "markdown",
   "metadata": {},
   "source": [
    "### Same for new transactions."
   ]
  },
  {
   "cell_type": "code",
   "execution_count": 19,
   "metadata": {
    "collapsed": true
   },
   "outputs": [],
   "source": [
    "def compute_sum_purchase_counts_new():\n",
    "    tmp = new_transactions[['card_id', 'merchant_category_id']]\n",
    "    specific_cate_ids = tmp[(tmp['merchant_category_id'] == 755) |\n",
    "                            (tmp['merchant_category_id'] == 511) |\n",
    "                            (tmp['merchant_category_id'] == 451)]\n",
    "    specific_cate_ids.reset_index(inplace=True, drop=True)\n",
    "    specific_cate_ids = pd.get_dummies(specific_cate_ids, columns=['merchant_category_id'])\n",
    "    df_sum_new = specific_cate_ids.groupby('card_id').sum()\n",
    "    df_sum_new.columns = ['new_' + col for col in df_sum_new.columns]\n",
    "    df_sum_new.reset_index(inplace=True)\n",
    "    \n",
    "    return df_sum_new"
   ]
  },
  {
   "cell_type": "code",
   "execution_count": 20,
   "metadata": {
    "collapsed": true
   },
   "outputs": [],
   "source": [
    "generated_dfs = [compute_sum_purchase_counts_new()]\n",
    "merge_generated_features(generated_dfs)\n",
    "clean_up(generated_dfs)"
   ]
  },
  {
   "cell_type": "markdown",
   "metadata": {},
   "source": [
    "### Extract some other time-related features and also some preprocessing."
   ]
  },
  {
   "cell_type": "code",
   "execution_count": 21,
   "metadata": {
    "collapsed": true
   },
   "outputs": [],
   "source": [
    "def preprocess_time_related_features_in_transactions(df):\n",
    "    #time related feature from purchase date\n",
    "    df['purchase_year'] = df['purchase_date'].dt.year\n",
    "    df['purchase_weekofyear'] = df['purchase_date'].dt.weekofyear\n",
    "    df['purchase_month'] = df['purchase_date'].dt.month\n",
    "    df['purchase_dayofweek'] = df['purchase_date'].dt.dayofweek\n",
    "    df['purchase_weekend'] = (df['purchase_dayofweek'] >=5).astype(int)\n",
    "    df['purchase_hour'] = df['purchase_date'].dt.hour\n",
    "   \n",
    "    df['authorized_flag'] = df['authorized_flag'].map({'Y':1, 'N':0})\n",
    "    df['category_1'] = df['category_1'].map({'Y':1, 'N':0}) \n",
    "    \n",
    "    df['month_diff'] = ((datetime.datetime(2018, 12, 27) - df['purchase_date']).dt.days)//30\n",
    "    df['month_diff'] += df['month_lag']\n",
    "    df['purchase_date_int'] = pd.DatetimeIndex(df['purchase_date']).astype(np.int64) * 1e-9\n",
    "    return pd.get_dummies(df, columns=['month_lag'])"
   ]
  },
  {
   "cell_type": "code",
   "execution_count": 22,
   "metadata": {
    "collapsed": true
   },
   "outputs": [],
   "source": [
    "historical_transactions = preprocess_time_related_features_in_transactions(historical_transactions)\n",
    "new_transactions = preprocess_time_related_features_in_transactions(new_transactions)"
   ]
  },
  {
   "cell_type": "markdown",
   "metadata": {},
   "source": [
    "### Aggregate numerical features from transactions. "
   ]
  },
  {
   "cell_type": "code",
   "execution_count": 23,
   "metadata": {
    "collapsed": true
   },
   "outputs": [],
   "source": [
    "def aggregate_hist_transactions(df):\n",
    "    \n",
    "    aggs = {\n",
    "        'card_id': ['size'], #transaction_count\n",
    "        'authorized_flag': ['sum', 'mean'],\n",
    "        'category_1': ['sum', 'mean'],\n",
    "        'merchant_id': ['nunique'],\n",
    "        'subsector_id': ['nunique'],\n",
    "        'purchase_amount': ['sum', 'max', 'min', 'mean', 'var'],\n",
    "        'installments': ['sum', 'max', 'min', 'mean', 'var'],\n",
    "        'purchase_year': ['nunique'],\n",
    "        'purchase_month': ['nunique'],\n",
    "        'purchase_hour': ['nunique'],\n",
    "        'purchase_weekofyear': ['nunique'],\n",
    "        'purchase_dayofweek': ['nunique'],\n",
    "        'purchase_date': ['min', 'max'],\n",
    "        'purchase_date_int':['var'],\n",
    "        'purchase_weekend': ['sum', 'mean'],\n",
    "        'month_diff': ['mean', 'var'],\n",
    "        'month_lag_-13': ['mean','sum'], \n",
    "        'month_lag_-12': ['mean','sum'], \n",
    "        'month_lag_-11': ['mean','sum'], \n",
    "        'month_lag_-10': ['mean','sum'], \n",
    "        'month_lag_-9': ['mean','sum'], \n",
    "        'month_lag_-8': ['mean','sum'], \n",
    "        'month_lag_-7': ['mean','sum'], \n",
    "        'month_lag_-6': ['mean','sum'], \n",
    "        'month_lag_-5': ['mean','sum'], \n",
    "        'month_lag_-4': ['mean','sum'], \n",
    "        'month_lag_-3': ['mean','sum'], \n",
    "        'month_lag_-2': ['mean','sum'], \n",
    "        'month_lag_-1': ['mean','sum'], \n",
    "        'month_lag_0': ['mean','sum']\n",
    "        }\n",
    "    \n",
    "    for col in ['category_2','category_3']:\n",
    "        df[col+'_mean'] = df.groupby([col])['purchase_amount'].transform('mean')\n",
    "        aggs[col+'_mean'] = ['mean']\n",
    "        \n",
    "    \n",
    "    agg_df = df.groupby(['card_id']).agg(aggs)\n",
    "    agg_df.columns = ['_'.join(col) for col in agg_df.columns.values]\n",
    "    agg_df.reset_index(inplace=True)\n",
    "    \n",
    "    return agg_df"
   ]
  },
  {
   "cell_type": "code",
   "execution_count": 24,
   "metadata": {
    "collapsed": true
   },
   "outputs": [],
   "source": [
    "def aggregate_new_transactions(df):\n",
    "    \n",
    "    aggs = {\n",
    "        'card_id': ['size'], #transaction_count\n",
    "        'authorized_flag': ['sum', 'mean'],\n",
    "        'category_1': ['sum', 'mean'],\n",
    "        'merchant_id': ['nunique'],\n",
    "        'subsector_id': ['nunique'],\n",
    "        'purchase_amount': ['sum', 'max', 'min', 'mean', 'var'],\n",
    "        'installments': ['sum', 'max', 'min', 'mean', 'var'],\n",
    "        'purchase_year': ['nunique'],\n",
    "        'purchase_month': ['nunique'],\n",
    "        'purchase_hour': ['nunique'],\n",
    "        'purchase_weekofyear': ['nunique'],\n",
    "        'purchase_dayofweek': ['nunique'],\n",
    "        'purchase_date': ['min', 'max'],\n",
    "        'purchase_date_int':['var'],\n",
    "        'purchase_weekend': ['sum', 'mean'],\n",
    "        'month_diff': ['mean', 'var'],\n",
    "        'month_lag_2': ['mean','sum'], \n",
    "        'month_lag_1': ['mean','sum']\n",
    "        }\n",
    "    \n",
    "    for col in ['category_2','category_3']:\n",
    "        df[col+'_mean'] = df.groupby([col])['purchase_amount'].transform('mean')\n",
    "        aggs[col+'_mean'] = ['mean']\n",
    "        \n",
    "    \n",
    "    agg_df = df.groupby(['card_id']).agg(aggs)\n",
    "    agg_df.columns = ['_'.join(col) for col in agg_df.columns.values]\n",
    "    agg_df.reset_index(inplace=True)\n",
    "    \n",
    "    return agg_df"
   ]
  },
  {
   "cell_type": "code",
   "execution_count": 25,
   "metadata": {
    "collapsed": true
   },
   "outputs": [],
   "source": [
    "historical = aggregate_hist_transactions(historical_transactions)\n",
    "historical.columns = ['hist_' + c if c != 'card_id' else c for c in historical.columns]\n",
    "\n",
    "new = aggregate_new_transactions(new_transactions)\n",
    "new.columns = ['new_' + c if c != 'card_id' else c for c in new.columns]"
   ]
  },
  {
   "cell_type": "code",
   "execution_count": 26,
   "metadata": {
    "collapsed": true
   },
   "outputs": [],
   "source": [
    "#some more features using aggregated features\n",
    "\n",
    "historical['hist_purchase_date_diff'] = (historical['hist_purchase_date_max'] - historical['hist_purchase_date_min']).dt.days\n",
    "historical['hist_purchase_date_average'] = historical['hist_purchase_date_diff'] / historical['hist_card_id_size']\n",
    "historical['hist_purchase_date_uptonow'] = (datetime.datetime(2018, 12, 27) - historical['hist_purchase_date_max']).dt.days\n",
    "\n",
    "new['new_purchase_date_diff'] = (new['new_purchase_date_max'] - new['new_purchase_date_min']).dt.days\n",
    "new['new_purchase_date_average'] = new['new_purchase_date_diff'] / new['new_card_id_size']\n",
    "new['new_purchase_date_uptonow'] = (datetime.datetime(2018, 12, 27) - new['new_purchase_date_max']).dt.days"
   ]
  },
  {
   "cell_type": "code",
   "execution_count": 27,
   "metadata": {
    "collapsed": true
   },
   "outputs": [],
   "source": [
    "generated_dfs = [historical, new]\n",
    "merge_generated_features(generated_dfs)\n",
    "clean_up(generated_dfs)"
   ]
  },
  {
   "cell_type": "markdown",
   "metadata": {},
   "source": [
    "### Add some features in train/test."
   ]
  },
  {
   "cell_type": "code",
   "execution_count": 28,
   "metadata": {
    "collapsed": true
   },
   "outputs": [],
   "source": [
    "def add_more_features(df):\n",
    "    # df['first_active_month'] = pd.to_datetime(df['first_active_month'])\n",
    "    df['first_dayofweek'] = df['first_active_month'].dt.dayofweek\n",
    "    df['first_weekofyear'] = df['first_active_month'].dt.weekofyear\n",
    "    df['first_month'] = df['first_active_month'].dt.month\n",
    "    df['elapsed_time'] = (datetime.datetime.today() - df['first_active_month']).dt.days\n",
    "    df['hist_first_buy'] = (df['hist_purchase_date_min'] - df['first_active_month']).dt.days\n",
    "    df['new_first_buy'] = (df['new_purchase_date_min'] - df['first_active_month']).dt.days\n",
    "    for f in ['hist_purchase_date_max', 'hist_purchase_date_min', 'new_purchase_date_max', 'new_purchase_date_min']:\n",
    "        df[f] = df[f].astype(np.int64) * 1e-9\n",
    "    df['card_id_total'] = df['new_card_id_size'] + df['hist_card_id_size']\n",
    "    df['purchase_amount_total'] = df['new_purchase_amount_sum'] + df['hist_purchase_amount_sum']"
   ]
  },
  {
   "cell_type": "code",
   "execution_count": 29,
   "metadata": {
    "collapsed": true
   },
   "outputs": [],
   "source": [
    "for df in [train, test]:\n",
    "    add_more_features(df)"
   ]
  },
  {
   "cell_type": "markdown",
   "metadata": {},
   "source": [
    "### Add new features as a ratio of 'new_hoge' over 'hist_hoge'."
   ]
  },
  {
   "cell_type": "code",
   "execution_count": 30,
   "metadata": {
    "collapsed": true
   },
   "outputs": [],
   "source": [
    "def compute_new_hist_ratio_features(df):\n",
    "    # generate new/hist features\n",
    "    for col in tqdm(df.columns.values):\n",
    "        if 'hist_' in col:\n",
    "            new_col = 'new_' + col.replace('hist_', '')\n",
    "            try:\n",
    "                df[new_col + '_over_' + col] = df[new_col] / df[col]\n",
    "            except KeyError:\n",
    "                pass\n",
    "                 \n",
    "    # merch cate new/hist\n",
    "    df['merchant_category_755_ratio'] = df['merchant_category_id_755'] / df['new_merchant_category_id_755']\n",
    "    df['merchant_category_451_ratio'] = df['merchant_category_id_451'] / df['new_merchant_category_id_451']\n",
    "    df['merchant_category_511_ratio'] = df['merchant_category_id_511'] / df['new_merchant_category_id_511']\n",
    "    \n",
    "    # date related new/hist\n",
    "    if 'date' in col:\n",
    "        df[col+\"_over_hist_month_diff_mean\"] = df[col] / df['hist_month_diff_mean']"
   ]
  },
  {
   "cell_type": "code",
   "execution_count": 31,
   "metadata": {
    "scrolled": true
   },
   "outputs": [
    {
     "name": "stderr",
     "output_type": "stream",
     "text": [
      "100%|██████████| 353/353 [00:00<00:00, 9035.92it/s]\n",
      "100%|██████████| 353/353 [00:00<00:00, 13162.55it/s]\n"
     ]
    }
   ],
   "source": [
    "for df in [train, test]:\n",
    "    compute_new_hist_ratio_features(df)"
   ]
  },
  {
   "cell_type": "markdown",
   "metadata": {},
   "source": [
    "### More ratio features using new_purchase_amount features."
   ]
  },
  {
   "cell_type": "code",
   "execution_count": 32,
   "metadata": {
    "collapsed": true
   },
   "outputs": [],
   "source": [
    "def add_more_ratio_features(df):\n",
    "    purch_amount_feats = ['new_purchase_amount_sum', 'new_purchase_amount_max',\n",
    "                          'new_purchase_amount_min', 'new_purchase_amount_mean', 'new_purchase_amount_var']\n",
    "\n",
    "    pairs = permutations(purch_amount_feats, 2)\n",
    "    for f1, f2 in pairs:\n",
    "        df[f1 + '_over_' + f2] = df[f1] / df[f2]"
   ]
  },
  {
   "cell_type": "code",
   "execution_count": 33,
   "metadata": {
    "collapsed": true
   },
   "outputs": [],
   "source": [
    "for df in [train, test]:\n",
    "    add_more_ratio_features(df)"
   ]
  },
  {
   "cell_type": "markdown",
   "metadata": {},
   "source": [
    "### Modeling & Prediction by LightGBM\n",
    "I used 30 diferrent random seeds for the final submission but here I only show the modeling with the fixed seed."
   ]
  },
  {
   "cell_type": "code",
   "execution_count": 34,
   "metadata": {
    "collapsed": true
   },
   "outputs": [],
   "source": [
    "features = [c for c in train.columns if c not in ['card_id', 'first_active_month']]\n",
    "categorical_features = [c for c in features if 'feature_' in c]"
   ]
  },
  {
   "cell_type": "code",
   "execution_count": 35,
   "metadata": {
    "scrolled": true
   },
   "outputs": [
    {
     "name": "stdout",
     "output_type": "stream",
     "text": [
      "Starting 0th iteration\n",
      "fold 0\n",
      "Training until validation scores don't improve for 100 rounds\n",
      "[100]\ttraining's rmse: 3.64155\tvalid_1's rmse: 3.71202\n",
      "[200]\ttraining's rmse: 3.54419\tvalid_1's rmse: 3.67822\n",
      "[300]\ttraining's rmse: 3.48163\tvalid_1's rmse: 3.6649\n",
      "[400]\ttraining's rmse: 3.43757\tvalid_1's rmse: 3.65793\n",
      "[500]\ttraining's rmse: 3.40052\tvalid_1's rmse: 3.654\n",
      "[600]\ttraining's rmse: 3.36922\tvalid_1's rmse: 3.65221\n",
      "[700]\ttraining's rmse: 3.34274\tvalid_1's rmse: 3.65104\n",
      "[800]\ttraining's rmse: 3.31689\tvalid_1's rmse: 3.6506\n",
      "[900]\ttraining's rmse: 3.29398\tvalid_1's rmse: 3.65034\n",
      "[1000]\ttraining's rmse: 3.2721\tvalid_1's rmse: 3.65029\n",
      "[1100]\ttraining's rmse: 3.25166\tvalid_1's rmse: 3.64977\n",
      "Early stopping, best iteration is:\n",
      "[1099]\ttraining's rmse: 3.25188\tvalid_1's rmse: 3.64974\n",
      "fold 1\n",
      "Training until validation scores don't improve for 100 rounds\n",
      "[100]\ttraining's rmse: 3.64282\tvalid_1's rmse: 3.71015\n",
      "[200]\ttraining's rmse: 3.54839\tvalid_1's rmse: 3.67366\n",
      "[300]\ttraining's rmse: 3.48855\tvalid_1's rmse: 3.65804\n",
      "[400]\ttraining's rmse: 3.44446\tvalid_1's rmse: 3.65029\n",
      "[500]\ttraining's rmse: 3.4108\tvalid_1's rmse: 3.64608\n",
      "[600]\ttraining's rmse: 3.38018\tvalid_1's rmse: 3.64271\n",
      "[700]\ttraining's rmse: 3.35103\tvalid_1's rmse: 3.64066\n",
      "[800]\ttraining's rmse: 3.32477\tvalid_1's rmse: 3.63877\n",
      "[900]\ttraining's rmse: 3.30211\tvalid_1's rmse: 3.63758\n",
      "[1000]\ttraining's rmse: 3.28052\tvalid_1's rmse: 3.63671\n",
      "[1100]\ttraining's rmse: 3.25892\tvalid_1's rmse: 3.6363\n",
      "[1200]\ttraining's rmse: 3.2394\tvalid_1's rmse: 3.63569\n",
      "[1300]\ttraining's rmse: 3.22096\tvalid_1's rmse: 3.63536\n",
      "[1400]\ttraining's rmse: 3.20275\tvalid_1's rmse: 3.63524\n",
      "[1500]\ttraining's rmse: 3.18502\tvalid_1's rmse: 3.63511\n",
      "Early stopping, best iteration is:\n",
      "[1462]\ttraining's rmse: 3.19227\tvalid_1's rmse: 3.63507\n",
      "fold 2\n",
      "Training until validation scores don't improve for 100 rounds\n",
      "[100]\ttraining's rmse: 3.64197\tvalid_1's rmse: 3.714\n",
      "[200]\ttraining's rmse: 3.54458\tvalid_1's rmse: 3.67908\n",
      "[300]\ttraining's rmse: 3.48313\tvalid_1's rmse: 3.66578\n",
      "[400]\ttraining's rmse: 3.4385\tvalid_1's rmse: 3.65966\n",
      "[500]\ttraining's rmse: 3.40217\tvalid_1's rmse: 3.65586\n",
      "[600]\ttraining's rmse: 3.37169\tvalid_1's rmse: 3.65391\n",
      "[700]\ttraining's rmse: 3.34348\tvalid_1's rmse: 3.65312\n",
      "[800]\ttraining's rmse: 3.31857\tvalid_1's rmse: 3.65274\n",
      "[900]\ttraining's rmse: 3.29625\tvalid_1's rmse: 3.65244\n",
      "[1000]\ttraining's rmse: 3.27435\tvalid_1's rmse: 3.65133\n",
      "[1100]\ttraining's rmse: 3.25288\tvalid_1's rmse: 3.65115\n",
      "[1200]\ttraining's rmse: 3.23271\tvalid_1's rmse: 3.65119\n",
      "Early stopping, best iteration is:\n",
      "[1116]\ttraining's rmse: 3.24937\tvalid_1's rmse: 3.65087\n",
      "fold 3\n",
      "Training until validation scores don't improve for 100 rounds\n",
      "[100]\ttraining's rmse: 3.63948\tvalid_1's rmse: 3.72356\n",
      "[200]\ttraining's rmse: 3.54324\tvalid_1's rmse: 3.69282\n",
      "[300]\ttraining's rmse: 3.48038\tvalid_1's rmse: 3.68263\n",
      "[400]\ttraining's rmse: 3.43444\tvalid_1's rmse: 3.67798\n",
      "[500]\ttraining's rmse: 3.40028\tvalid_1's rmse: 3.67447\n",
      "[600]\ttraining's rmse: 3.37057\tvalid_1's rmse: 3.67275\n",
      "[700]\ttraining's rmse: 3.34302\tvalid_1's rmse: 3.67123\n",
      "[800]\ttraining's rmse: 3.31812\tvalid_1's rmse: 3.67034\n",
      "Early stopping, best iteration is:\n",
      "[796]\ttraining's rmse: 3.31925\tvalid_1's rmse: 3.67018\n",
      "fold 4\n",
      "Training until validation scores don't improve for 100 rounds\n",
      "[100]\ttraining's rmse: 3.64303\tvalid_1's rmse: 3.70194\n",
      "[200]\ttraining's rmse: 3.54881\tvalid_1's rmse: 3.6587\n",
      "[300]\ttraining's rmse: 3.48845\tvalid_1's rmse: 3.64122\n",
      "[400]\ttraining's rmse: 3.44464\tvalid_1's rmse: 3.63265\n",
      "[500]\ttraining's rmse: 3.40928\tvalid_1's rmse: 3.62744\n",
      "[600]\ttraining's rmse: 3.37881\tvalid_1's rmse: 3.62471\n",
      "[700]\ttraining's rmse: 3.35168\tvalid_1's rmse: 3.62239\n",
      "[800]\ttraining's rmse: 3.32613\tvalid_1's rmse: 3.62115\n",
      "[900]\ttraining's rmse: 3.30288\tvalid_1's rmse: 3.6206\n",
      "[1000]\ttraining's rmse: 3.28094\tvalid_1's rmse: 3.62005\n",
      "[1100]\ttraining's rmse: 3.26008\tvalid_1's rmse: 3.61962\n",
      "[1200]\ttraining's rmse: 3.24096\tvalid_1's rmse: 3.61904\n",
      "[1300]\ttraining's rmse: 3.22192\tvalid_1's rmse: 3.61879\n",
      "[1400]\ttraining's rmse: 3.20434\tvalid_1's rmse: 3.61936\n",
      "Early stopping, best iteration is:\n",
      "[1335]\ttraining's rmse: 3.21604\tvalid_1's rmse: 3.61869\n",
      "5fold CV score: 3.6449493736153555\n",
      "100 models avg 5fold CV score: 3.6449493736153555\n"
     ]
    }
   ],
   "source": [
    "train['outliers'] = 0\n",
    "train.loc[target < -30, 'outliers'] = 1\n",
    "\n",
    "oof_total = np.zeros(len(train))\n",
    "predictions_total = np.zeros(len(test))\n",
    "total_importance_df = pd.DataFrame()\n",
    "\n",
    "# set it to k when seed averaging k times\n",
    "for seed in range(1):\n",
    "    print(f'Starting {seed}th iteration')\n",
    "    \n",
    "    param = {'num_leaves': 31,\n",
    "         'min_data_in_leaf': 30, \n",
    "         'objective':'regression',\n",
    "         'max_depth': -1,\n",
    "         'learning_rate': 0.01,\n",
    "         'min_child_samples': 20,\n",
    "         'boosting': 'gbdt',\n",
    "         'feature_fraction': 0.9,\n",
    "         'bagging_freq': 1,\n",
    "         'bagging_fraction': 0.9 ,\n",
    "         'bagging_seed': 11,\n",
    "         'metric': 'rmse',\n",
    "         'lambda_l1': 0.1,\n",
    "         'verbosity': -1,\n",
    "         'nthread': 4,\n",
    "         'random_state': seed}\n",
    "\n",
    "    folds = StratifiedKFold(n_splits=5, shuffle=True, random_state=114514)\n",
    "    oof = np.zeros(len(train))\n",
    "    predictions = np.zeros(len(test))\n",
    "    feature_importance_df = pd.DataFrame()\n",
    "\n",
    "    for fold, (train_idx, val_idx) in enumerate(folds.split(train, train['outliers'].values)):\n",
    "        print('fold {}'.format(fold))\n",
    "        train_data = lgb.Dataset(train.iloc[train_idx][features], label=target.iloc[train_idx], categorical_feature=categorical_features)\n",
    "        val_data = lgb.Dataset(train.iloc[val_idx][features], label=target.iloc[val_idx], categorical_feature=categorical_features)\n",
    "        num_round = 10000\n",
    "        clf = lgb.train(param, train_data, num_round, valid_sets = [train_data, val_data], verbose_eval=100, early_stopping_rounds = 100)\n",
    "        oof[val_idx] = clf.predict(train[features].values[val_idx], num_iteration=clf.best_iteration)\n",
    "    \n",
    "        fold_importance_df = pd.DataFrame()\n",
    "        fold_importance_df['Feature'] = features\n",
    "        fold_importance_df['importance'] = clf.feature_importance(importance_type='gain')\n",
    "        feature_importance_df = pd.concat([feature_importance_df, fold_importance_df], axis=0)\n",
    "    \n",
    "        predictions += clf.predict(test[features], num_iteration=clf.best_iteration) / folds.n_splits\n",
    "\n",
    "    # set it to k when seed averaging k times   \n",
    "    oof_total += oof / 1\n",
    "    predictions_total += predictions / 1\n",
    "    \n",
    "    # CV score with this seed\n",
    "    print(f'5fold CV score: {np.sqrt(mean_squared_error(oof, target))}')\n",
    "    \n",
    "    feature_importance_df = feature_importance_df.groupby('Feature')['importance'].mean().reset_index()\n",
    "    total_importance_df = pd.concat([total_importance_df, feature_importance_df], axis=0)\n",
    "    \n",
    "# CV score for seed averaged prediction\n",
    "print(f'100 models avg 5fold CV score: {np.sqrt(mean_squared_error(oof_total, target))}')\n",
    "total_importance_df = total_importance_df.groupby('Feature')['importance'].mean().reset_index()"
   ]
  },
  {
   "cell_type": "code",
   "execution_count": 36,
   "metadata": {},
   "outputs": [
    {
     "data": {
      "text/plain": [
       "Text(0.5,1,'LightGBM top30 Feature Importances (avg over folds)')"
      ]
     },
     "execution_count": 36,
     "metadata": {},
     "output_type": "execute_result"
    },
    {
     "data": {
      "image/png": "[encoded data removed]",
      "text/plain": [
       "<matplotlib.figure.Figure at 0x7fa37866bcf8>"
      ]
     },
     "metadata": {},
     "output_type": "display_data"
    }
   ],
   "source": [
    "top_30_features = total_importance_df.sort_values(by='importance', ascending=False).head(30)\n",
    "plt.figure(figsize=(14,25))\n",
    "sns.barplot(x='importance', y='Feature', data=top_30_features)\n",
    "plt.title('LightGBM top30 Feature Importances (avg over folds)')"
   ]
  },
  {
   "cell_type": "code",
   "execution_count": 37,
   "metadata": {
    "collapsed": true
   },
   "outputs": [],
   "source": [
    "sbm = pd.read_csv('./input/sample_submission.csv')\n",
    "sbm[\"target\"] = predictions_total\n",
    "sbm.to_csv(\"./input/final_submission.csv\", index=False)"
   ]
  }
 ],
 "metadata": {
  "kernelspec": {
   "display_name": "Python 3",
   "language": "python",
   "name": "python3"
  },
  "language_info": {
   "codemirror_mode": {
    "name": "ipython",
    "version": 3
   },
   "file_extension": ".py",
   "mimetype": "text/x-python",
   "name": "python",
   "nbconvert_exporter": "python",
   "pygments_lexer": "ipython3",
   "version": "3.6.3"
  },
  "toc": {
   "base_numbering": 1,
   "nav_menu": {},
   "number_sections": false,
   "sideBar": true,
   "skip_h1_title": false,
   "title_cell": "Table of Contents",
   "title_sidebar": "Contents",
   "toc_cell": false,
   "toc_position": {},
   "toc_section_display": true,
   "toc_window_display": false
  }
 },
 "nbformat": 4,
 "nbformat_minor": 2
}
